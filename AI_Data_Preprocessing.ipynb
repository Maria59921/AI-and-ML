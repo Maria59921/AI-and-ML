{
  "nbformat": 4,
  "nbformat_minor": 0,
  "metadata": {
    "colab": {
      "provenance": []
    },
    "kernelspec": {
      "name": "python3",
      "display_name": "Python 3"
    },
    "language_info": {
      "name": "python"
    }
  },
  "cells": [
    {
      "cell_type": "markdown",
      "source": [
        "**1. Data Collection and Understanding**\n",
        "\n",
        "\n",
        "\n"
      ],
      "metadata": {
        "id": "E7uaKvntZdDI"
      }
    },
    {
      "cell_type": "code",
      "source": [
        "import pandas as pd\n"
      ],
      "metadata": {
        "id": "5cRSE2cpZh-5"
      },
      "execution_count": 1,
      "outputs": []
    },
    {
      "cell_type": "code",
      "source": [
        "# Load dataset\n",
        "titanic = pd.read_csv('/content/Titanic-Dataset.csv')"
      ],
      "metadata": {
        "id": "CC6TOTuGa6JZ"
      },
      "execution_count": 2,
      "outputs": []
    },
    {
      "cell_type": "code",
      "source": [
        "# First few rows\n",
        "print(titanic.head())"
      ],
      "metadata": {
        "colab": {
          "base_uri": "https://localhost:8080/"
        },
        "id": "zRvA16w_bDhm",
        "outputId": "03efa38e-c94b-48eb-94e8-ea00342c9052"
      },
      "execution_count": 3,
      "outputs": [
        {
          "output_type": "stream",
          "name": "stdout",
          "text": [
            "   PassengerId  Survived  Pclass  \\\n",
            "0            1         0       3   \n",
            "1            2         1       1   \n",
            "2            3         1       3   \n",
            "3            4         1       1   \n",
            "4            5         0       3   \n",
            "\n",
            "                                                Name     Sex   Age  SibSp  \\\n",
            "0                            Braund, Mr. Owen Harris    male  22.0      1   \n",
            "1  Cumings, Mrs. John Bradley (Florence Briggs Th...  female  38.0      1   \n",
            "2                             Heikkinen, Miss. Laina  female  26.0      0   \n",
            "3       Futrelle, Mrs. Jacques Heath (Lily May Peel)  female  35.0      1   \n",
            "4                           Allen, Mr. William Henry    male  35.0      0   \n",
            "\n",
            "   Parch            Ticket     Fare Cabin Embarked  \n",
            "0      0         A/5 21171   7.2500   NaN        S  \n",
            "1      0          PC 17599  71.2833   C85        C  \n",
            "2      0  STON/O2. 3101282   7.9250   NaN        S  \n",
            "3      0            113803  53.1000  C123        S  \n",
            "4      0            373450   8.0500   NaN        S  \n"
          ]
        }
      ]
    },
    {
      "cell_type": "code",
      "source": [
        "# Dataset information\n",
        "print(titanic.info())\n"
      ],
      "metadata": {
        "colab": {
          "base_uri": "https://localhost:8080/"
        },
        "id": "l6i4PnCDbKru",
        "outputId": "a2bb03d0-7393-4f63-9a75-e050527c2dc5"
      },
      "execution_count": 4,
      "outputs": [
        {
          "output_type": "stream",
          "name": "stdout",
          "text": [
            "<class 'pandas.core.frame.DataFrame'>\n",
            "RangeIndex: 891 entries, 0 to 890\n",
            "Data columns (total 12 columns):\n",
            " #   Column       Non-Null Count  Dtype  \n",
            "---  ------       --------------  -----  \n",
            " 0   PassengerId  891 non-null    int64  \n",
            " 1   Survived     891 non-null    int64  \n",
            " 2   Pclass       891 non-null    int64  \n",
            " 3   Name         891 non-null    object \n",
            " 4   Sex          891 non-null    object \n",
            " 5   Age          714 non-null    float64\n",
            " 6   SibSp        891 non-null    int64  \n",
            " 7   Parch        891 non-null    int64  \n",
            " 8   Ticket       891 non-null    object \n",
            " 9   Fare         891 non-null    float64\n",
            " 10  Cabin        204 non-null    object \n",
            " 11  Embarked     889 non-null    object \n",
            "dtypes: float64(2), int64(5), object(5)\n",
            "memory usage: 83.7+ KB\n",
            "None\n"
          ]
        }
      ]
    },
    {
      "cell_type": "code",
      "source": [
        "# Summary statistics\n",
        "print(titanic.describe())"
      ],
      "metadata": {
        "colab": {
          "base_uri": "https://localhost:8080/"
        },
        "id": "_QHgqakPbQvi",
        "outputId": "7a2ad159-ee47-465b-a008-6f0c727f149c"
      },
      "execution_count": 5,
      "outputs": [
        {
          "output_type": "stream",
          "name": "stdout",
          "text": [
            "       PassengerId    Survived      Pclass         Age       SibSp  \\\n",
            "count   891.000000  891.000000  891.000000  714.000000  891.000000   \n",
            "mean    446.000000    0.383838    2.308642   29.699118    0.523008   \n",
            "std     257.353842    0.486592    0.836071   14.526497    1.102743   \n",
            "min       1.000000    0.000000    1.000000    0.420000    0.000000   \n",
            "25%     223.500000    0.000000    2.000000   20.125000    0.000000   \n",
            "50%     446.000000    0.000000    3.000000   28.000000    0.000000   \n",
            "75%     668.500000    1.000000    3.000000   38.000000    1.000000   \n",
            "max     891.000000    1.000000    3.000000   80.000000    8.000000   \n",
            "\n",
            "            Parch        Fare  \n",
            "count  891.000000  891.000000  \n",
            "mean     0.381594   32.204208  \n",
            "std      0.806057   49.693429  \n",
            "min      0.000000    0.000000  \n",
            "25%      0.000000    7.910400  \n",
            "50%      0.000000   14.454200  \n",
            "75%      0.000000   31.000000  \n",
            "max      6.000000  512.329200  \n"
          ]
        }
      ]
    },
    {
      "cell_type": "code",
      "source": [
        "# Check missing values\n",
        "print(titanic.isnull().sum())\n"
      ],
      "metadata": {
        "colab": {
          "base_uri": "https://localhost:8080/"
        },
        "id": "Gva0g0eKbSKL",
        "outputId": "700452b8-15e4-4eed-a6ac-96d0216732b1"
      },
      "execution_count": 6,
      "outputs": [
        {
          "output_type": "stream",
          "name": "stdout",
          "text": [
            "PassengerId      0\n",
            "Survived         0\n",
            "Pclass           0\n",
            "Name             0\n",
            "Sex              0\n",
            "Age            177\n",
            "SibSp            0\n",
            "Parch            0\n",
            "Ticket           0\n",
            "Fare             0\n",
            "Cabin          687\n",
            "Embarked         2\n",
            "dtype: int64\n"
          ]
        }
      ]
    },
    {
      "cell_type": "markdown",
      "source": [
        "**2. Handling Missing Data**\n"
      ],
      "metadata": {
        "id": "dBv5VcoMbaze"
      }
    },
    {
      "cell_type": "code",
      "source": [
        "# 'Age': Fill missing values with median (safe for skewed data).\n",
        "\n",
        "# 'Embarked': Fill missing values with mode (most frequent category).\n",
        "\n",
        "# 'Cabin': Drop because too much missingness."
      ],
      "metadata": {
        "id": "SfYcUVJIbV9t"
      },
      "execution_count": null,
      "outputs": []
    },
    {
      "cell_type": "code",
      "source": [
        "# Fill 'Age' missing values with median\n",
        "titanic['Age'].fillna(titanic['Age'].median(), inplace=True)"
      ],
      "metadata": {
        "colab": {
          "base_uri": "https://localhost:8080/"
        },
        "id": "Abl1CtFPbv8s",
        "outputId": "d404f312-cdc9-427f-90de-3f80c2b15a51"
      },
      "execution_count": 7,
      "outputs": [
        {
          "output_type": "stream",
          "name": "stderr",
          "text": [
            "<ipython-input-7-2647076ecbb1>:2: FutureWarning: A value is trying to be set on a copy of a DataFrame or Series through chained assignment using an inplace method.\n",
            "The behavior will change in pandas 3.0. This inplace method will never work because the intermediate object on which we are setting values always behaves as a copy.\n",
            "\n",
            "For example, when doing 'df[col].method(value, inplace=True)', try using 'df.method({col: value}, inplace=True)' or df[col] = df[col].method(value) instead, to perform the operation inplace on the original object.\n",
            "\n",
            "\n",
            "  titanic['Age'].fillna(titanic['Age'].median(), inplace=True)\n"
          ]
        }
      ]
    },
    {
      "cell_type": "code",
      "source": [
        "# Fill 'Embarked' missing values with mode\n",
        "titanic['Embarked'].fillna(titanic['Embarked'].mode()[0], inplace=True)"
      ],
      "metadata": {
        "colab": {
          "base_uri": "https://localhost:8080/"
        },
        "id": "NxRUdVEqcM-3",
        "outputId": "719d9e63-63df-456b-c09c-9b1e10a0a874"
      },
      "execution_count": 8,
      "outputs": [
        {
          "output_type": "stream",
          "name": "stderr",
          "text": [
            "<ipython-input-8-95ff3ee01f93>:2: FutureWarning: A value is trying to be set on a copy of a DataFrame or Series through chained assignment using an inplace method.\n",
            "The behavior will change in pandas 3.0. This inplace method will never work because the intermediate object on which we are setting values always behaves as a copy.\n",
            "\n",
            "For example, when doing 'df[col].method(value, inplace=True)', try using 'df.method({col: value}, inplace=True)' or df[col] = df[col].method(value) instead, to perform the operation inplace on the original object.\n",
            "\n",
            "\n",
            "  titanic['Embarked'].fillna(titanic['Embarked'].mode()[0], inplace=True)\n"
          ]
        }
      ]
    },
    {
      "cell_type": "code",
      "source": [
        "# Drop 'Cabin' column\n",
        "titanic.drop(columns=['Cabin'], inplace=True)"
      ],
      "metadata": {
        "id": "yky0dyiicggX"
      },
      "execution_count": 9,
      "outputs": []
    },
    {
      "cell_type": "markdown",
      "source": [
        "**3. Removing Outliers (Optional but Recommended)**"
      ],
      "metadata": {
        "id": "N3WyT4KsdVpL"
      }
    },
    {
      "cell_type": "code",
      "source": [
        "# Cap extreme values in 'Fare' and 'Age' to reduce noise."
      ],
      "metadata": {
        "id": "1uYy9zhkcq-9"
      },
      "execution_count": null,
      "outputs": []
    },
    {
      "cell_type": "code",
      "source": [
        "import numpy as np"
      ],
      "metadata": {
        "id": "-jp20suFdhrX"
      },
      "execution_count": 10,
      "outputs": []
    },
    {
      "cell_type": "code",
      "source": [
        "# Cap Fare at 99th percentile\n",
        "fare_cap = titanic['Fare'].quantile(0.99)\n",
        "titanic['Fare'] = np.where(titanic['Fare'] > fare_cap, fare_cap, titanic['Fare'])"
      ],
      "metadata": {
        "id": "rZ7zOBcgdpOD"
      },
      "execution_count": 11,
      "outputs": []
    },
    {
      "cell_type": "code",
      "source": [
        "# Cap Age similarly (optional)\n",
        "age_cap = titanic['Age'].quantile(0.99)\n",
        "titanic['Age'] = np.where(titanic['Age'] > age_cap, age_cap, titanic['Age'])"
      ],
      "metadata": {
        "id": "GTktXBK4dsfU"
      },
      "execution_count": 12,
      "outputs": []
    },
    {
      "cell_type": "markdown",
      "source": [
        "**4. Encoding Categorical Data**\n"
      ],
      "metadata": {
        "id": "Lzre-TEFfrV0"
      }
    },
    {
      "cell_type": "code",
      "source": [
        "# Convert categorical features to numerical format for machine learning."
      ],
      "metadata": {
        "id": "Vn4ewb-RfnAa"
      },
      "execution_count": null,
      "outputs": []
    },
    {
      "cell_type": "code",
      "source": [
        "# 'Sex': Label encode (0/1).\n",
        "\n",
        "# 'Embarked': One-hot encode (create dummy variables)."
      ],
      "metadata": {
        "id": "yLMZPNTef3jQ"
      },
      "execution_count": null,
      "outputs": []
    },
    {
      "cell_type": "code",
      "source": [
        "from sklearn.preprocessing import LabelEncoder"
      ],
      "metadata": {
        "id": "vsx8ogW3gBw-"
      },
      "execution_count": 13,
      "outputs": []
    },
    {
      "cell_type": "code",
      "source": [
        "# Label encode 'Sex'\n",
        "le_sex = LabelEncoder()\n",
        "titanic['Sex'] = le_sex.fit_transform(titanic['Sex'])"
      ],
      "metadata": {
        "id": "t1b4bdnqgG0T"
      },
      "execution_count": 14,
      "outputs": []
    },
    {
      "cell_type": "code",
      "source": [
        "# One-hot encode 'Embarked'\n",
        "titanic = pd.get_dummies(titanic, columns=['Embarked'], drop_first=True)"
      ],
      "metadata": {
        "id": "x8KUKOGVgK6q"
      },
      "execution_count": 15,
      "outputs": []
    },
    {
      "cell_type": "markdown",
      "source": [
        "**5. Feature Scaling: Normalisation and Standardisation**"
      ],
      "metadata": {
        "id": "AM0DcUo5gaKd"
      }
    },
    {
      "cell_type": "code",
      "source": [
        "from sklearn.preprocessing import StandardScaler\n"
      ],
      "metadata": {
        "id": "fz4U2juvg4Qa"
      },
      "execution_count": 16,
      "outputs": []
    },
    {
      "cell_type": "code",
      "source": [
        "scaler = StandardScaler()\n"
      ],
      "metadata": {
        "id": "GzasOyrMg-iI"
      },
      "execution_count": 17,
      "outputs": []
    },
    {
      "cell_type": "code",
      "source": [
        "# Scale 'Age' and 'Fare'\n",
        "titanic[['Age', 'Fare']] = scaler.fit_transform(titanic[['Age', 'Fare']])"
      ],
      "metadata": {
        "id": "V_iMMhZrhCV4"
      },
      "execution_count": 18,
      "outputs": []
    },
    {
      "cell_type": "markdown",
      "source": [
        "**6. Feature Engineering (Optional Enhancement)**"
      ],
      "metadata": {
        "id": "eUFBSAshhbc5"
      }
    },
    {
      "cell_type": "code",
      "source": [
        "# Create new features that capture useful information."
      ],
      "metadata": {
        "id": "4TyxpxaMhUVl"
      },
      "execution_count": null,
      "outputs": []
    },
    {
      "cell_type": "code",
      "source": [
        "# Create FamilySize feature\n",
        "titanic['FamilySize'] = titanic['SibSp'] + titanic['Parch'] + 1"
      ],
      "metadata": {
        "id": "G8Ap7JMWh2z6"
      },
      "execution_count": 19,
      "outputs": []
    },
    {
      "cell_type": "code",
      "source": [
        "# Create IsAlone feature\n",
        "titanic['IsAlone'] = 1  # Default to alone\n",
        "titanic['IsAlone'].loc[titanic['FamilySize'] > 1] = 0\n"
      ],
      "metadata": {
        "colab": {
          "base_uri": "https://localhost:8080/"
        },
        "id": "VWcXMkpPinM-",
        "outputId": "d4dcb74e-0a6b-49f3-c74e-ed54323a7222"
      },
      "execution_count": 20,
      "outputs": [
        {
          "output_type": "stream",
          "name": "stderr",
          "text": [
            "<ipython-input-20-ed1f35d750de>:3: FutureWarning: ChainedAssignmentError: behaviour will change in pandas 3.0!\n",
            "You are setting values through chained assignment. Currently this works in certain cases, but when using Copy-on-Write (which will become the default behaviour in pandas 3.0) this will never work to update the original DataFrame or Series, because the intermediate object on which we are setting values will behave as a copy.\n",
            "A typical example is when you are setting values in a column of a DataFrame, like:\n",
            "\n",
            "df[\"col\"][row_indexer] = value\n",
            "\n",
            "Use `df.loc[row_indexer, \"col\"] = values` instead, to perform the assignment in a single step and ensure this keeps updating the original `df`.\n",
            "\n",
            "See the caveats in the documentation: https://pandas.pydata.org/pandas-docs/stable/user_guide/indexing.html#returning-a-view-versus-a-copy\n",
            "\n",
            "  titanic['IsAlone'].loc[titanic['FamilySize'] > 1] = 0\n",
            "<ipython-input-20-ed1f35d750de>:3: SettingWithCopyWarning: \n",
            "A value is trying to be set on a copy of a slice from a DataFrame\n",
            "\n",
            "See the caveats in the documentation: https://pandas.pydata.org/pandas-docs/stable/user_guide/indexing.html#returning-a-view-versus-a-copy\n",
            "  titanic['IsAlone'].loc[titanic['FamilySize'] > 1] = 0\n"
          ]
        }
      ]
    },
    {
      "cell_type": "code",
      "source": [
        "# Drop irrelevant columns\n",
        "titanic.drop(columns=['Name', 'Ticket', 'PassengerId'], inplace=True)\n"
      ],
      "metadata": {
        "id": "sRf7cEFZiyVN"
      },
      "execution_count": 21,
      "outputs": []
    },
    {
      "cell_type": "markdown",
      "source": [
        "**Final Preprocessed Data**"
      ],
      "metadata": {
        "id": "u4hs7VJhi47P"
      }
    },
    {
      "cell_type": "code",
      "source": [
        "print(titanic.head())"
      ],
      "metadata": {
        "colab": {
          "base_uri": "https://localhost:8080/"
        },
        "id": "MX0EDmeNi4Ng",
        "outputId": "0f16d907-009c-4bd8-ec6f-b3bb2a92ed73"
      },
      "execution_count": 22,
      "outputs": [
        {
          "output_type": "stream",
          "name": "stdout",
          "text": [
            "   Survived  Pclass  Sex       Age  SibSp  Parch      Fare  Embarked_Q  \\\n",
            "0         0       3    1 -0.569196      1      0 -0.564109       False   \n",
            "1         1       1    0  0.677902      1      0  0.942548       False   \n",
            "2         1       3    0 -0.257421      0      0 -0.548227       False   \n",
            "3         1       1    0  0.444071      1      0  0.514708       False   \n",
            "4         0       3    1  0.444071      0      0 -0.545285       False   \n",
            "\n",
            "   Embarked_S  FamilySize  IsAlone  \n",
            "0        True           2        0  \n",
            "1       False           2        0  \n",
            "2        True           1        1  \n",
            "3        True           2        0  \n",
            "4        True           1        1  \n"
          ]
        }
      ]
    },
    {
      "cell_type": "code",
      "source": [
        "print(titanic.info())\n"
      ],
      "metadata": {
        "colab": {
          "base_uri": "https://localhost:8080/"
        },
        "id": "QggPR5v8i_Pa",
        "outputId": "b3991d49-3999-4bec-fb0c-2f5e50b9e146"
      },
      "execution_count": 23,
      "outputs": [
        {
          "output_type": "stream",
          "name": "stdout",
          "text": [
            "<class 'pandas.core.frame.DataFrame'>\n",
            "RangeIndex: 891 entries, 0 to 890\n",
            "Data columns (total 11 columns):\n",
            " #   Column      Non-Null Count  Dtype  \n",
            "---  ------      --------------  -----  \n",
            " 0   Survived    891 non-null    int64  \n",
            " 1   Pclass      891 non-null    int64  \n",
            " 2   Sex         891 non-null    int64  \n",
            " 3   Age         891 non-null    float64\n",
            " 4   SibSp       891 non-null    int64  \n",
            " 5   Parch       891 non-null    int64  \n",
            " 6   Fare        891 non-null    float64\n",
            " 7   Embarked_Q  891 non-null    bool   \n",
            " 8   Embarked_S  891 non-null    bool   \n",
            " 9   FamilySize  891 non-null    int64  \n",
            " 10  IsAlone     891 non-null    int64  \n",
            "dtypes: bool(2), float64(2), int64(7)\n",
            "memory usage: 64.5 KB\n",
            "None\n"
          ]
        }
      ]
    }
  ]
}